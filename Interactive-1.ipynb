{
 "cells": [
  {
   "cell_type": "markdown",
   "metadata": {
    "isInteractiveWindowMessageCell": true
   },
   "source": [
    "Connected to Python 3.12.1"
   ]
  },
  {
   "cell_type": "code",
   "execution_count": 1,
   "metadata": {},
   "outputs": [
    {
     "ename": "ModuleNotFoundError",
     "evalue": "No module named 'distutils'",
     "output_type": "error",
     "traceback": [
      "\u001b[0;31m---------------------------------------------------------------------------\u001b[0m",
      "\u001b[0;31mModuleNotFoundError\u001b[0m                       Traceback (most recent call last)",
      "\u001b[1;32m/devanshidesai21/backtesting_trading_Strategies/MyMACD_Strategypy\u001b[0m in \u001b[0;36mline 4\n\u001b[1;32m      <a href='vscode-vfs://github/devanshidesai21/backtesting_trading_Strategies/MyMACD_Strategypy?line=0'>1</a>\u001b[0m \u001b[39mimport\u001b[39;00m \u001b[39mdatetime\u001b[39;00m \u001b[39mas\u001b[39;00m \u001b[39mdt\u001b[39;00m\n\u001b[1;32m      <a href='vscode-vfs://github/devanshidesai21/backtesting_trading_Strategies/MyMACD_Strategypy?line=2'>3</a>\u001b[0m \u001b[39mimport\u001b[39;00m \u001b[39mtalib\u001b[39;00m\n\u001b[0;32m----> <a href='vscode-vfs://github/devanshidesai21/backtesting_trading_Strategies/MyMACD_Strategypy?line=3'>4</a>\u001b[0m \u001b[39mimport\u001b[39;00m \u001b[39mpandas_datareader\u001b[39;00m \u001b[39mas\u001b[39;00m \u001b[39mweb\u001b[39;00m\n\u001b[1;32m      <a href='vscode-vfs://github/devanshidesai21/backtesting_trading_Strategies/MyMACD_Strategypy?line=5'>6</a>\u001b[0m \u001b[39mfrom\u001b[39;00m \u001b[39mbacktesting\u001b[39;00m \u001b[39mimport\u001b[39;00m Backtest, Strategy\n\u001b[1;32m      <a href='vscode-vfs://github/devanshidesai21/backtesting_trading_Strategies/MyMACD_Strategypy?line=6'>7</a>\u001b[0m \u001b[39mfrom\u001b[39;00m \u001b[39mbacktesting\u001b[39;00m\u001b[39m.\u001b[39;00m\u001b[39mlib\u001b[39;00m \u001b[39mimport\u001b[39;00m crossover\n",
      "File \u001b[0;32m/Library/Frameworks/Python.framework/Versions/3.12/lib/python3.12/site-packages/pandas_datareader/__init__.py:5\u001b[0m\n\u001b[1;32m      <a href='file:///Library/Frameworks/Python.framework/Versions/3.12/lib/python3.12/site-packages/pandas_datareader/__init__.py?line=1'>2</a>\u001b[0m \u001b[39mimport\u001b[39;00m \u001b[39msys\u001b[39;00m\n\u001b[1;32m      <a href='file:///Library/Frameworks/Python.framework/Versions/3.12/lib/python3.12/site-packages/pandas_datareader/__init__.py?line=3'>4</a>\u001b[0m \u001b[39mfrom\u001b[39;00m \u001b[39m.\u001b[39;00m\u001b[39m_version\u001b[39;00m \u001b[39mimport\u001b[39;00m get_versions\n\u001b[0;32m----> <a href='file:///Library/Frameworks/Python.framework/Versions/3.12/lib/python3.12/site-packages/pandas_datareader/__init__.py?line=4'>5</a>\u001b[0m \u001b[39mfrom\u001b[39;00m \u001b[39m.\u001b[39;00m\u001b[39mdata\u001b[39;00m \u001b[39mimport\u001b[39;00m (\n\u001b[1;32m      <a href='file:///Library/Frameworks/Python.framework/Versions/3.12/lib/python3.12/site-packages/pandas_datareader/__init__.py?line=5'>6</a>\u001b[0m     DataReader,\n\u001b[1;32m      <a href='file:///Library/Frameworks/Python.framework/Versions/3.12/lib/python3.12/site-packages/pandas_datareader/__init__.py?line=6'>7</a>\u001b[0m     Options,\n\u001b[1;32m      <a href='file:///Library/Frameworks/Python.framework/Versions/3.12/lib/python3.12/site-packages/pandas_datareader/__init__.py?line=7'>8</a>\u001b[0m     get_components_yahoo,\n\u001b[1;32m      <a href='file:///Library/Frameworks/Python.framework/Versions/3.12/lib/python3.12/site-packages/pandas_datareader/__init__.py?line=8'>9</a>\u001b[0m     get_dailysummary_iex,\n\u001b[1;32m     <a href='file:///Library/Frameworks/Python.framework/Versions/3.12/lib/python3.12/site-packages/pandas_datareader/__init__.py?line=9'>10</a>\u001b[0m     get_data_alphavantage,\n\u001b[1;32m     <a href='file:///Library/Frameworks/Python.framework/Versions/3.12/lib/python3.12/site-packages/pandas_datareader/__init__.py?line=10'>11</a>\u001b[0m     get_data_enigma,\n\u001b[1;32m     <a href='file:///Library/Frameworks/Python.framework/Versions/3.12/lib/python3.12/site-packages/pandas_datareader/__init__.py?line=11'>12</a>\u001b[0m     get_data_famafrench,\n\u001b[1;32m     <a href='file:///Library/Frameworks/Python.framework/Versions/3.12/lib/python3.12/site-packages/pandas_datareader/__init__.py?line=12'>13</a>\u001b[0m     get_data_fred,\n\u001b[1;32m     <a href='file:///Library/Frameworks/Python.framework/Versions/3.12/lib/python3.12/site-packages/pandas_datareader/__init__.py?line=13'>14</a>\u001b[0m     get_data_moex,\n\u001b[1;32m     <a href='file:///Library/Frameworks/Python.framework/Versions/3.12/lib/python3.12/site-packages/pandas_datareader/__init__.py?line=14'>15</a>\u001b[0m     get_data_quandl,\n\u001b[1;32m     <a href='file:///Library/Frameworks/Python.framework/Versions/3.12/lib/python3.12/site-packages/pandas_datareader/__init__.py?line=15'>16</a>\u001b[0m     get_data_stooq,\n\u001b[1;32m     <a href='file:///Library/Frameworks/Python.framework/Versions/3.12/lib/python3.12/site-packages/pandas_datareader/__init__.py?line=16'>17</a>\u001b[0m     get_data_tiingo,\n\u001b[1;32m     <a href='file:///Library/Frameworks/Python.framework/Versions/3.12/lib/python3.12/site-packages/pandas_datareader/__init__.py?line=17'>18</a>\u001b[0m     get_data_yahoo,\n\u001b[1;32m     <a href='file:///Library/Frameworks/Python.framework/Versions/3.12/lib/python3.12/site-packages/pandas_datareader/__init__.py?line=18'>19</a>\u001b[0m     get_data_yahoo_actions,\n\u001b[1;32m     <a href='file:///Library/Frameworks/Python.framework/Versions/3.12/lib/python3.12/site-packages/pandas_datareader/__init__.py?line=19'>20</a>\u001b[0m     get_iex_book,\n\u001b[1;32m     <a href='file:///Library/Frameworks/Python.framework/Versions/3.12/lib/python3.12/site-packages/pandas_datareader/__init__.py?line=20'>21</a>\u001b[0m     get_iex_data_tiingo,\n\u001b[1;32m     <a href='file:///Library/Frameworks/Python.framework/Versions/3.12/lib/python3.12/site-packages/pandas_datareader/__init__.py?line=21'>22</a>\u001b[0m     get_iex_symbols,\n\u001b[1;32m     <a href='file:///Library/Frameworks/Python.framework/Versions/3.12/lib/python3.12/site-packages/pandas_datareader/__init__.py?line=22'>23</a>\u001b[0m     get_last_iex,\n\u001b[1;32m     <a href='file:///Library/Frameworks/Python.framework/Versions/3.12/lib/python3.12/site-packages/pandas_datareader/__init__.py?line=23'>24</a>\u001b[0m     get_markets_iex,\n\u001b[1;32m     <a href='file:///Library/Frameworks/Python.framework/Versions/3.12/lib/python3.12/site-packages/pandas_datareader/__init__.py?line=24'>25</a>\u001b[0m     get_nasdaq_symbols,\n\u001b[1;32m     <a href='file:///Library/Frameworks/Python.framework/Versions/3.12/lib/python3.12/site-packages/pandas_datareader/__init__.py?line=25'>26</a>\u001b[0m     get_quote_yahoo,\n\u001b[1;32m     <a href='file:///Library/Frameworks/Python.framework/Versions/3.12/lib/python3.12/site-packages/pandas_datareader/__init__.py?line=26'>27</a>\u001b[0m     get_recent_iex,\n\u001b[1;32m     <a href='file:///Library/Frameworks/Python.framework/Versions/3.12/lib/python3.12/site-packages/pandas_datareader/__init__.py?line=27'>28</a>\u001b[0m     get_records_iex,\n\u001b[1;32m     <a href='file:///Library/Frameworks/Python.framework/Versions/3.12/lib/python3.12/site-packages/pandas_datareader/__init__.py?line=28'>29</a>\u001b[0m     get_summary_iex,\n\u001b[1;32m     <a href='file:///Library/Frameworks/Python.framework/Versions/3.12/lib/python3.12/site-packages/pandas_datareader/__init__.py?line=29'>30</a>\u001b[0m     get_tops_iex,\n\u001b[1;32m     <a href='file:///Library/Frameworks/Python.framework/Versions/3.12/lib/python3.12/site-packages/pandas_datareader/__init__.py?line=30'>31</a>\u001b[0m )\n\u001b[1;32m     <a href='file:///Library/Frameworks/Python.framework/Versions/3.12/lib/python3.12/site-packages/pandas_datareader/__init__.py?line=32'>33</a>\u001b[0m PKG \u001b[39m=\u001b[39m os\u001b[39m.\u001b[39mpath\u001b[39m.\u001b[39mdirname(\u001b[39m__file__\u001b[39m)\n\u001b[1;32m     <a href='file:///Library/Frameworks/Python.framework/Versions/3.12/lib/python3.12/site-packages/pandas_datareader/__init__.py?line=34'>35</a>\u001b[0m __version__ \u001b[39m=\u001b[39m get_versions()[\u001b[39m\"\u001b[39m\u001b[39mversion\u001b[39m\u001b[39m\"\u001b[39m]\n",
      "File \u001b[0;32m/Library/Frameworks/Python.framework/Versions/3.12/lib/python3.12/site-packages/pandas_datareader/data.py:11\u001b[0m\n\u001b[1;32m      <a href='file:///Library/Frameworks/Python.framework/Versions/3.12/lib/python3.12/site-packages/pandas_datareader/data.py?line=6'>7</a>\u001b[0m \u001b[39mimport\u001b[39;00m \u001b[39mwarnings\u001b[39;00m\n\u001b[1;32m      <a href='file:///Library/Frameworks/Python.framework/Versions/3.12/lib/python3.12/site-packages/pandas_datareader/data.py?line=8'>9</a>\u001b[0m \u001b[39mfrom\u001b[39;00m \u001b[39mpandas\u001b[39;00m\u001b[39m.\u001b[39;00m\u001b[39mutil\u001b[39;00m\u001b[39m.\u001b[39;00m\u001b[39m_decorators\u001b[39;00m \u001b[39mimport\u001b[39;00m deprecate_kwarg\n\u001b[0;32m---> <a href='file:///Library/Frameworks/Python.framework/Versions/3.12/lib/python3.12/site-packages/pandas_datareader/data.py?line=10'>11</a>\u001b[0m \u001b[39mfrom\u001b[39;00m \u001b[39mpandas_datareader\u001b[39;00m\u001b[39m.\u001b[39;00m\u001b[39mav\u001b[39;00m\u001b[39m.\u001b[39;00m\u001b[39mforex\u001b[39;00m \u001b[39mimport\u001b[39;00m AVForexReader\n\u001b[1;32m     <a href='file:///Library/Frameworks/Python.framework/Versions/3.12/lib/python3.12/site-packages/pandas_datareader/data.py?line=11'>12</a>\u001b[0m \u001b[39mfrom\u001b[39;00m \u001b[39mpandas_datareader\u001b[39;00m\u001b[39m.\u001b[39;00m\u001b[39mav\u001b[39;00m\u001b[39m.\u001b[39;00m\u001b[39mquotes\u001b[39;00m \u001b[39mimport\u001b[39;00m AVQuotesReader\n\u001b[1;32m     <a href='file:///Library/Frameworks/Python.framework/Versions/3.12/lib/python3.12/site-packages/pandas_datareader/data.py?line=12'>13</a>\u001b[0m \u001b[39mfrom\u001b[39;00m \u001b[39mpandas_datareader\u001b[39;00m\u001b[39m.\u001b[39;00m\u001b[39mav\u001b[39;00m\u001b[39m.\u001b[39;00m\u001b[39msector\u001b[39;00m \u001b[39mimport\u001b[39;00m AVSectorPerformanceReader\n",
      "File \u001b[0;32m/Library/Frameworks/Python.framework/Versions/3.12/lib/python3.12/site-packages/pandas_datareader/av/__init__.py:5\u001b[0m\n\u001b[1;32m      <a href='file:///Library/Frameworks/Python.framework/Versions/3.12/lib/python3.12/site-packages/pandas_datareader/av/__init__.py?line=0'>1</a>\u001b[0m \u001b[39mimport\u001b[39;00m \u001b[39mos\u001b[39;00m\n\u001b[1;32m      <a href='file:///Library/Frameworks/Python.framework/Versions/3.12/lib/python3.12/site-packages/pandas_datareader/av/__init__.py?line=2'>3</a>\u001b[0m \u001b[39mimport\u001b[39;00m \u001b[39mpandas\u001b[39;00m \u001b[39mas\u001b[39;00m \u001b[39mpd\u001b[39;00m\n\u001b[0;32m----> <a href='file:///Library/Frameworks/Python.framework/Versions/3.12/lib/python3.12/site-packages/pandas_datareader/av/__init__.py?line=4'>5</a>\u001b[0m \u001b[39mfrom\u001b[39;00m \u001b[39mpandas_datareader\u001b[39;00m\u001b[39m.\u001b[39;00m\u001b[39m_utils\u001b[39;00m \u001b[39mimport\u001b[39;00m RemoteDataError\n\u001b[1;32m      <a href='file:///Library/Frameworks/Python.framework/Versions/3.12/lib/python3.12/site-packages/pandas_datareader/av/__init__.py?line=5'>6</a>\u001b[0m \u001b[39mfrom\u001b[39;00m \u001b[39mpandas_datareader\u001b[39;00m\u001b[39m.\u001b[39;00m\u001b[39mbase\u001b[39;00m \u001b[39mimport\u001b[39;00m _BaseReader\n\u001b[1;32m      <a href='file:///Library/Frameworks/Python.framework/Versions/3.12/lib/python3.12/site-packages/pandas_datareader/av/__init__.py?line=7'>8</a>\u001b[0m AV_BASE_URL \u001b[39m=\u001b[39m \u001b[39m\"\u001b[39m\u001b[39mhttps://www.alphavantage.co/query\u001b[39m\u001b[39m\"\u001b[39m\n",
      "File \u001b[0;32m/Library/Frameworks/Python.framework/Versions/3.12/lib/python3.12/site-packages/pandas_datareader/_utils.py:6\u001b[0m\n\u001b[1;32m      <a href='file:///Library/Frameworks/Python.framework/Versions/3.12/lib/python3.12/site-packages/pandas_datareader/_utils.py?line=2'>3</a>\u001b[0m \u001b[39mfrom\u001b[39;00m \u001b[39mpandas\u001b[39;00m \u001b[39mimport\u001b[39;00m to_datetime\n\u001b[1;32m      <a href='file:///Library/Frameworks/Python.framework/Versions/3.12/lib/python3.12/site-packages/pandas_datareader/_utils.py?line=3'>4</a>\u001b[0m \u001b[39mimport\u001b[39;00m \u001b[39mrequests\u001b[39;00m\n\u001b[0;32m----> <a href='file:///Library/Frameworks/Python.framework/Versions/3.12/lib/python3.12/site-packages/pandas_datareader/_utils.py?line=5'>6</a>\u001b[0m \u001b[39mfrom\u001b[39;00m \u001b[39mpandas_datareader\u001b[39;00m\u001b[39m.\u001b[39;00m\u001b[39mcompat\u001b[39;00m \u001b[39mimport\u001b[39;00m is_number\n\u001b[1;32m      <a href='file:///Library/Frameworks/Python.framework/Versions/3.12/lib/python3.12/site-packages/pandas_datareader/_utils.py?line=8'>9</a>\u001b[0m \u001b[39mclass\u001b[39;00m \u001b[39mSymbolWarning\u001b[39;00m(\u001b[39mUserWarning\u001b[39;00m):\n\u001b[1;32m     <a href='file:///Library/Frameworks/Python.framework/Versions/3.12/lib/python3.12/site-packages/pandas_datareader/_utils.py?line=9'>10</a>\u001b[0m     \u001b[39mpass\u001b[39;00m\n",
      "File \u001b[0;32m/Library/Frameworks/Python.framework/Versions/3.12/lib/python3.12/site-packages/pandas_datareader/compat/__init__.py:1\u001b[0m\n\u001b[0;32m----> <a href='file:///Library/Frameworks/Python.framework/Versions/3.12/lib/python3.12/site-packages/pandas_datareader/compat/__init__.py?line=0'>1</a>\u001b[0m \u001b[39mfrom\u001b[39;00m \u001b[39mdistutils\u001b[39;00m\u001b[39m.\u001b[39;00m\u001b[39mversion\u001b[39;00m \u001b[39mimport\u001b[39;00m LooseVersion\n\u001b[1;32m      <a href='file:///Library/Frameworks/Python.framework/Versions/3.12/lib/python3.12/site-packages/pandas_datareader/compat/__init__.py?line=1'>2</a>\u001b[0m \u001b[39mfrom\u001b[39;00m \u001b[39mfunctools\u001b[39;00m \u001b[39mimport\u001b[39;00m reduce\n\u001b[1;32m      <a href='file:///Library/Frameworks/Python.framework/Versions/3.12/lib/python3.12/site-packages/pandas_datareader/compat/__init__.py?line=2'>3</a>\u001b[0m \u001b[39mfrom\u001b[39;00m \u001b[39mio\u001b[39;00m \u001b[39mimport\u001b[39;00m StringIO\n",
      "\u001b[0;31mModuleNotFoundError\u001b[0m: No module named 'distutils'"
     ]
    }
   ],
   "source": [
    "import datetime as dt\n",
    "\n",
    "import talib\n",
    "import pandas_datareader as web\n",
    "\n",
    "from backtesting import Backtest, Strategy\n",
    "from backtesting.lib import crossover\n",
    "from backtesting.test import SMA, GOOG\n",
    "\n",
    "\n",
    "class MyMACDStrategy(Strategy):\n",
    "    \n",
    "    def init(self):\n",
    "        price = self.data.Close\n",
    "        self.macd = self.I(lambda x: talib.MACD(x)[0], price)\n",
    "        self.macd_signal = self.I(lambda x: talib.MACD(x)[1], price)\n",
    "        \n",
    "    def next(self):\n",
    "        if  crossover(self.macd, self.macd_signal):\n",
    "            self.buy()\n",
    "        elif crossover(self.macd_signal, self.macd):\n",
    "            self.sell()\n",
    "\n",
    "start = dt.datetime(2020,1, 1)\n",
    "end = dt.datetime(2022, 1, 1)       \n",
    "data = web.DataReader(\"TSLA\", \"yahoo\")\n",
    "\n",
    "backtest = Backtest(data, MyMACDStrategy, commissions=0.002, exclusive_orders=True)\n",
    "\n",
    "print = (backtest.run())\n",
    "\n",
    "backtest.plot()"
   ]
  },
  {
   "cell_type": "markdown",
   "metadata": {
    "isInteractiveWindowMessageCell": true
   },
   "source": [
    "Restarted Python 3.12.1"
   ]
  }
 ],
 "metadata": {
  "kernelspec": {
   "display_name": "Python 3",
   "language": "python",
   "name": "python3"
  },
  "language_info": {
   "name": "python",
   "version": "3.12.1"
  }
 },
 "nbformat": 4,
 "nbformat_minor": 2
}
